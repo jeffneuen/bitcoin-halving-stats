{
 "cells": [
  {
   "cell_type": "code",
   "execution_count": 1,
   "metadata": {},
   "outputs": [],
   "source": [
    "import pandas as pd\n",
    "from datetime import datetime, timedelta"
   ]
  },
  {
   "cell_type": "code",
   "execution_count": 2,
   "metadata": {},
   "outputs": [],
   "source": [
    "bitstamp_price_url =  'http://api.bitcoincharts.com/v1/csv/bitstampUSD.csv.gz'\n",
    "raw_df = pd.read_csv(bitstamp_price_url, header=None)"
   ]
  },
  {
   "cell_type": "code",
   "execution_count": 3,
   "metadata": {},
   "outputs": [],
   "source": [
    "df = raw_df.copy()\n",
    "df.index = pd.to_datetime(raw_df[0], unit='s')\n",
    "df = df.drop(columns=[0])\n",
    "df.columns = ['price', 'volume']\n",
    "df.index.rename('datetime', inplace=True)"
   ]
  },
  {
   "cell_type": "code",
   "execution_count": 4,
   "metadata": {},
   "outputs": [],
   "source": [
    "#drop known bad ticks\n",
    "df = df.drop([datetime(2016,6,23,12,36,54)])"
   ]
  },
  {
   "cell_type": "markdown",
   "metadata": {},
   "source": [
    "# Constants"
   ]
  },
  {
   "cell_type": "code",
   "execution_count": 5,
   "metadata": {},
   "outputs": [],
   "source": [
    "genesis_block_date = datetime(2009,1,3)\n",
    "halving_one_date = datetime(2012,11,28)\n",
    "halving_two_date = datetime(2016,6,9)\n",
    "halving_three_date = datetime(2020,5,11) #estimated"
   ]
  },
  {
   "cell_type": "markdown",
   "metadata": {},
   "source": [
    "# Calculate halving price, peak price dates, and peak prices"
   ]
  },
  {
   "cell_type": "code",
   "execution_count": 6,
   "metadata": {},
   "outputs": [
    {
     "name": "stdout",
     "output_type": "stream",
     "text": [
      "Date of peak price between halving one and halving two: 2013-11-30\n",
      "Date of peak price between halving two and halving three (est.): 2017-12-17\n",
      "\n",
      "Closing price on halving date one (2012-11-28): 12.22\n",
      "Closing price on halving date two (2016-06-09): 575.01\n",
      "\n",
      "Peak price between halving one date and halving two date: 1163.0\n",
      "Estimated peak price between halving two date and halving three date: 19666.0\n"
     ]
    }
   ],
   "source": [
    "halving_one_peak_date = df.loc[halving_one_date:halving_two_date].price.idxmax().normalize()\n",
    "halving_two_peak_date = df.loc[halving_two_date:halving_three_date].price.idxmax().normalize()\n",
    "\n",
    "halving_one_price = df.loc[halving_one_date:(halving_one_date + timedelta(days=1))].price.values[-1]\n",
    "halving_two_price = df.loc[halving_two_date:(halving_two_date + timedelta(days=1))].price.values[-1]\n",
    "                                                                                                 \n",
    "halving_one_peak_price = df.loc[halving_one_peak_date:(halving_one_peak_date + timedelta(days=1))].price.max()\n",
    "halving_two_peak_price = df.loc[halving_two_peak_date:(halving_two_peak_date + timedelta(days=1))].price.max()\n",
    "\n",
    "print(f'Date of peak price between halving one and halving two: {halving_one_peak_date.strftime(\"%Y-%m-%d\")}')\n",
    "print(f'Date of peak price between halving two and halving three (est.): {halving_two_peak_date.strftime(\"%Y-%m-%d\")}')\n",
    "print()\n",
    "print(f'Closing price on halving date one ({halving_one_date.strftime(\"%Y-%m-%d\")}): {halving_one_price}')\n",
    "print(f'Closing price on halving date two ({halving_two_date.strftime(\"%Y-%m-%d\")}): {halving_two_price}')\n",
    "print()\n",
    "print(f'Peak price between halving one date and halving two date: {halving_one_peak_price}')\n",
    "print(f'Estimated peak price between halving two date and halving three date: {halving_two_peak_price}')"
   ]
  },
  {
   "cell_type": "markdown",
   "metadata": {},
   "source": [
    "# Time between halvings"
   ]
  },
  {
   "cell_type": "markdown",
   "metadata": {},
   "source": [
    "#### Days between genesis block and first halving"
   ]
  },
  {
   "cell_type": "code",
   "execution_count": 7,
   "metadata": {},
   "outputs": [
    {
     "data": {
      "text/plain": [
       "1425"
      ]
     },
     "execution_count": 7,
     "metadata": {},
     "output_type": "execute_result"
    }
   ],
   "source": [
    "(halving_one_date - genesis_block_date).days"
   ]
  },
  {
   "cell_type": "markdown",
   "metadata": {},
   "source": [
    "#### Days between first and second halving"
   ]
  },
  {
   "cell_type": "code",
   "execution_count": 8,
   "metadata": {},
   "outputs": [
    {
     "data": {
      "text/plain": [
       "1289"
      ]
     },
     "execution_count": 8,
     "metadata": {},
     "output_type": "execute_result"
    }
   ],
   "source": [
    "(halving_two_date - halving_one_date).days"
   ]
  },
  {
   "cell_type": "markdown",
   "metadata": {},
   "source": [
    "#### Days between second and third halving (est.)"
   ]
  },
  {
   "cell_type": "code",
   "execution_count": 9,
   "metadata": {},
   "outputs": [
    {
     "data": {
      "text/plain": [
       "1432"
      ]
     },
     "execution_count": 9,
     "metadata": {},
     "output_type": "execute_result"
    }
   ],
   "source": [
    "(halving_three_date - halving_two_date).days"
   ]
  },
  {
   "cell_type": "markdown",
   "metadata": {},
   "source": [
    "# Days between and halving and peak price"
   ]
  },
  {
   "cell_type": "markdown",
   "metadata": {},
   "source": [
    "#### Days between halving one and peak price"
   ]
  },
  {
   "cell_type": "code",
   "execution_count": 10,
   "metadata": {},
   "outputs": [
    {
     "data": {
      "text/plain": [
       "367"
      ]
     },
     "execution_count": 10,
     "metadata": {},
     "output_type": "execute_result"
    }
   ],
   "source": [
    "(halving_one_peak_date - halving_one_date).days"
   ]
  },
  {
   "cell_type": "markdown",
   "metadata": {},
   "source": [
    "#### Days between halving two and peak price"
   ]
  },
  {
   "cell_type": "code",
   "execution_count": 11,
   "metadata": {},
   "outputs": [
    {
     "data": {
      "text/plain": [
       "556"
      ]
     },
     "execution_count": 11,
     "metadata": {},
     "output_type": "execute_result"
    }
   ],
   "source": [
    "(halving_two_peak_date - halving_two_date).days"
   ]
  },
  {
   "cell_type": "markdown",
   "metadata": {},
   "source": [
    "# Price change from halving to peak"
   ]
  },
  {
   "cell_type": "markdown",
   "metadata": {},
   "source": [
    "#### Price change percentage from halving #1 to peak #1"
   ]
  },
  {
   "cell_type": "code",
   "execution_count": 12,
   "metadata": {},
   "outputs": [
    {
     "name": "stdout",
     "output_type": "stream",
     "text": [
      "9417.18%\n"
     ]
    }
   ],
   "source": [
    "percent_change = (halving_one_peak_price - halving_one_price) / halving_one_price\n",
    "print(f'{round(percent_change*100,2)}%')"
   ]
  },
  {
   "cell_type": "markdown",
   "metadata": {},
   "source": [
    "#### Price change percentage from halving #2 to peak #2"
   ]
  },
  {
   "cell_type": "code",
   "execution_count": 13,
   "metadata": {},
   "outputs": [
    {
     "name": "stdout",
     "output_type": "stream",
     "text": [
      "3320.11%\n"
     ]
    }
   ],
   "source": [
    "percent_change = (halving_two_peak_price - halving_two_price) / halving_two_price\n",
    "print(f'{round(percent_change*100,2)}%')"
   ]
  },
  {
   "cell_type": "markdown",
   "metadata": {},
   "source": [
    "# Largest drawdown from price on date of halving before peak"
   ]
  },
  {
   "cell_type": "markdown",
   "metadata": {},
   "source": [
    "#### Halving #1"
   ]
  },
  {
   "cell_type": "code",
   "execution_count": 14,
   "metadata": {},
   "outputs": [
    {
     "name": "stdout",
     "output_type": "stream",
     "text": [
      "Lowest price was 11.93 on 2012-11-28 00:34:03, which is a drawdown of 2.37 %, which occurred 0 days after the halving.\n"
     ]
    }
   ],
   "source": [
    "low_date = df.loc[halving_one_date:halving_one_peak_date].price.idxmin()\n",
    "low_price = df.loc[low_date].price.min()\n",
    "drawdown_percent = ((halving_one_price - low_price) / halving_one_price) * 100\n",
    "days_until_max_dd = (low_date - halving_one_date).days\n",
    "\n",
    "print(f'Lowest price was {low_price} on {low_date}, which is a drawdown of {round(drawdown_percent,2)} %, which occurred {days_until_max_dd} days after the halving.')"
   ]
  },
  {
   "cell_type": "markdown",
   "metadata": {},
   "source": [
    "#### Halving #2"
   ]
  },
  {
   "cell_type": "code",
   "execution_count": 15,
   "metadata": {},
   "outputs": [
    {
     "name": "stdout",
     "output_type": "stream",
     "text": [
      "Lowest price was 465.28 on 2016-08-02 23:01:58, which is a drawdown of 19.08 %, which occurred 54 days after the halving.\n"
     ]
    }
   ],
   "source": [
    "low_date = df.loc[halving_two_date:halving_two_peak_date].price.idxmin()\n",
    "low_price = df.loc[low_date].price.min()\n",
    "#print(low_price)\n",
    "drawdown_percent = ((halving_two_price - low_price) / halving_two_price) * 100\n",
    "days_until_max_dd = (low_date - halving_two_date).days\n",
    "\n",
    "\n",
    "print(f'Lowest price was {low_price} on {low_date}, which is a drawdown of {round(drawdown_percent,2)} %, which occurred {days_until_max_dd} days after the halving.')"
   ]
  }
 ],
 "metadata": {
  "kernelspec": {
   "display_name": "Python 3",
   "language": "python",
   "name": "python3"
  },
  "language_info": {
   "codemirror_mode": {
    "name": "ipython",
    "version": 3
   },
   "file_extension": ".py",
   "mimetype": "text/x-python",
   "name": "python",
   "nbconvert_exporter": "python",
   "pygments_lexer": "ipython3",
   "version": "3.7.3"
  }
 },
 "nbformat": 4,
 "nbformat_minor": 4
}
